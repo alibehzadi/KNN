{
 "cells": [
  {
   "cell_type": "code",
   "execution_count": 1,
   "id": "c039c0bb",
   "metadata": {},
   "outputs": [],
   "source": [
    "import numpy as np\n",
    "from collections import Counter"
   ]
  },
  {
   "cell_type": "code",
   "execution_count": 2,
   "id": "2753c260",
   "metadata": {},
   "outputs": [],
   "source": [
    "def euclidian_distance(x1,x2):\n",
    "    return np.sqrt(np.sum((x1-x2)**2))\n",
    "\n",
    "class KNN:\n",
    "    def __init__(self,k=3):\n",
    "        self.k = k\n",
    "        \n",
    "    def fit(self,X,y):\n",
    "        self.X_train = X\n",
    "        self.y_train = y\n",
    "        \n",
    "    def predict(self,X):\n",
    "        predicted_labels = [self._predict(x) for x in X]\n",
    "        return np.array(predicted_labels)\n",
    "    \n",
    "    def _predict(self , x):\n",
    "        distances = [euclidian_distance(x , x_train) for x_train in self.X_train]\n",
    "        k_nei = np.argsort(distances)[:self.k]\n",
    "        k_nei_labels = [self.y_train[i] for i in k_nei]\n",
    "        most_common = Counter(k_nei_labels).most_common(1)\n",
    "        return most_common[0][0]\n",
    "    \n",
    "    def score(self , X,y):\n",
    "        predicted = self.predict(X)\n",
    "        length = len(predicted)\n",
    "        currect=0\n",
    "        for i in range(length):\n",
    "            if predicted[i]==y[i]:\n",
    "                currect+=1\n",
    "        return currect*100/length"
   ]
  },
  {
   "cell_type": "code",
   "execution_count": 3,
   "id": "227e469a",
   "metadata": {},
   "outputs": [],
   "source": [
    "from sklearn import datasets\n",
    "from sklearn.model_selection import train_test_split\n",
    "import pickle"
   ]
  },
  {
   "cell_type": "code",
   "execution_count": 4,
   "id": "ee40dd6a",
   "metadata": {},
   "outputs": [],
   "source": [
    "data = datasets.load_breast_cancer()"
   ]
  },
  {
   "cell_type": "code",
   "execution_count": 5,
   "id": "6ad55b05",
   "metadata": {},
   "outputs": [],
   "source": [
    "X , y = data.data, data.target\n",
    "best_accuracy=None"
   ]
  },
  {
   "cell_type": "code",
   "execution_count": 6,
   "id": "5835896a",
   "metadata": {},
   "outputs": [
    {
     "name": "stdout",
     "output_type": "stream",
     "text": [
      "98.24561403508773\n"
     ]
    }
   ],
   "source": [
    "for i in range(100):    \n",
    "    X_train , X_test , y_train , y_test = train_test_split(X , y , test_size=0.1)\n",
    "\n",
    "    model = KNN(k=3)\n",
    "    model.fit(X_train,y_train)\n",
    "    predicted = model.predict(X_test)\n",
    "    acc = model.score(X_test,y_test)\n",
    "    if best_accuracy == None:\n",
    "        best_accuracy = acc\n",
    "    elif best_accuracy<acc:\n",
    "        best_accuracy=acc\n",
    "        with open(\"Bestmodel1.pickle\",\"wb\")as modelData:\n",
    "            pickle.dump(model,modelData)\n",
    "print(best_accuracy)"
   ]
  },
  {
   "cell_type": "code",
   "execution_count": 7,
   "id": "825c3fa6",
   "metadata": {},
   "outputs": [
    {
     "data": {
      "text/plain": [
       "array([0, 0, 1, 1, 1, 1, 0, 0, 1, 1, 0, 1, 0, 1, 1, 1, 0, 0, 1, 1, 1, 0,\n",
       "       0, 1, 1, 1, 1, 1, 1, 1, 1, 0, 1, 1, 0, 1, 1, 0, 1, 1, 1, 1, 1, 0,\n",
       "       0, 1, 1, 1, 1, 1, 1, 0, 1, 1, 1, 1, 1])"
      ]
     },
     "execution_count": 7,
     "metadata": {},
     "output_type": "execute_result"
    }
   ],
   "source": [
    "predicted"
   ]
  },
  {
   "cell_type": "code",
   "execution_count": 8,
   "id": "b12aa69d",
   "metadata": {},
   "outputs": [
    {
     "data": {
      "text/plain": [
       "array([0, 0, 1, 1, 0, 0, 0, 0, 1, 1, 0, 1, 0, 1, 1, 1, 0, 0, 1, 1, 1, 0,\n",
       "       1, 1, 1, 1, 1, 1, 1, 1, 1, 0, 1, 1, 0, 1, 1, 0, 1, 1, 1, 1, 1, 0,\n",
       "       0, 1, 1, 1, 1, 1, 1, 0, 0, 1, 1, 1, 1])"
      ]
     },
     "execution_count": 8,
     "metadata": {},
     "output_type": "execute_result"
    }
   ],
   "source": [
    "y_test"
   ]
  },
  {
   "cell_type": "code",
   "execution_count": null,
   "id": "64372aba",
   "metadata": {},
   "outputs": [],
   "source": []
  }
 ],
 "metadata": {
  "kernelspec": {
   "display_name": "Python 3 (ipykernel)",
   "language": "python",
   "name": "python3"
  },
  "language_info": {
   "codemirror_mode": {
    "name": "ipython",
    "version": 3
   },
   "file_extension": ".py",
   "mimetype": "text/x-python",
   "name": "python",
   "nbconvert_exporter": "python",
   "pygments_lexer": "ipython3",
   "version": "3.9.8"
  }
 },
 "nbformat": 4,
 "nbformat_minor": 5
}
